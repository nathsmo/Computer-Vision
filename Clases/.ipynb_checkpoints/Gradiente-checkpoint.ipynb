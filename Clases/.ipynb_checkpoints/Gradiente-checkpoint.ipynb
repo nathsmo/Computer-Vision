{
 "cells": [
  {
   "cell_type": "markdown",
   "metadata": {},
   "source": [
    "# Gradientes\n",
    "wikipedia Sobel Operator"
   ]
  },
  {
   "cell_type": "code",
   "execution_count": 4,
   "metadata": {},
   "outputs": [],
   "source": [
    "import numpy as np\n",
    "import cv2 as cv\n",
    "import matplotlib.pyplot as plt\n",
    "import plot\n",
    "\n",
    "%matplotlib inline"
   ]
  },
  {
   "cell_type": "code",
   "execution_count": null,
   "metadata": {},
   "outputs": [],
   "source": [
    "#im = cv.imread('im\\AT3', cv.IMREAD_GRAYSCALE)\n",
    "#im = cv.imread('im\\AT3', cv.IMREAD_GRAYSCALE)\n",
    "\n",
    "#im = cv.imread('im\\AT3', cv.IMREAD_GRAYSCALE)\n",
    "im = cv.threshold(cv.imread('imagen', cv.IMREAD_GRAYSCALE), 100,255,cv.THRESH_BINARY)"
   ]
  },
  {
   "cell_type": "code",
   "execution_count": null,
   "metadata": {},
   "outputs": [],
   "source": [
    "plot.imgview(im)"
   ]
  },
  {
   "cell_type": "code",
   "execution_count": null,
   "metadata": {},
   "outputs": [],
   "source": [
    "sobelx = cv.Sobel(im, cv.CV_64F, 1, 0, ksize=5)\n",
    "sobely = cv.Sobel(im, cv.CV_64F, 0, 1, ksize=5)"
   ]
  },
  {
   "cell_type": "code",
   "execution_count": null,
   "metadata": {},
   "outputs": [],
   "source": [
    "def cmp_edges(x, y=0, single=False, cut=None, same_axis=False, titles=None):\n",
    "    if single:\n",
    "        if cut == None:\n",
    "            cut = [x.shape[0]//2]\n",
    "        fig, axes = plt.subjects(2,1,figsize(10,10))\n",
    "        \n",
    "        axes[0].imshow(x,cmap = 'gray')\n",
    "        axes[0].hlines(cut[0], x.shape[1], color='b')\n",
    "        axes[0]."
   ]
  },
  {
   "cell_type": "code",
   "execution_count": null,
   "metadata": {},
   "outputs": [],
   "source": [
    "Canny\n",
    "Scharr"
   ]
  },
  {
   "cell_type": "code",
   "execution_count": null,
   "metadata": {},
   "outputs": [],
   "source": []
  },
  {
   "cell_type": "code",
   "execution_count": null,
   "metadata": {},
   "outputs": [],
   "source": []
  },
  {
   "cell_type": "code",
   "execution_count": null,
   "metadata": {},
   "outputs": [],
   "source": []
  },
  {
   "cell_type": "code",
   "execution_count": null,
   "metadata": {},
   "outputs": [],
   "source": []
  },
  {
   "cell_type": "code",
   "execution_count": null,
   "metadata": {},
   "outputs": [],
   "source": []
  }
 ],
 "metadata": {
  "kernelspec": {
   "display_name": "Python 3",
   "language": "python",
   "name": "python3"
  },
  "language_info": {
   "codemirror_mode": {
    "name": "ipython",
    "version": 3
   },
   "file_extension": ".py",
   "mimetype": "text/x-python",
   "name": "python",
   "nbconvert_exporter": "python",
   "pygments_lexer": "ipython3",
   "version": "3.7.2"
  }
 },
 "nbformat": 4,
 "nbformat_minor": 2
}
