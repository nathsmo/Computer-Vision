{
 "cells": [
  {
   "cell_type": "code",
   "execution_count": 13,
   "metadata": {},
   "outputs": [],
   "source": [
    "import plot\n",
    "import cv2 as cv\n",
    "import matplotlib.pyplot as plt\n",
    "import matplotlib.image as mpimg\n",
    "import numpy as np\n",
    "from matplotlib.pyplot import figure"
   ]
  },
  {
   "cell_type": "code",
   "execution_count": 14,
   "metadata": {},
   "outputs": [],
   "source": [
    "def imgpad(img, r):\n",
    "    \"\"\"Agrega un espacio de padding para la imagen en formato de numpy array.\n",
    "    \n",
    "    Args:\n",
    "        img (numpy array): imagen conformada por el array en formato de numpy\n",
    "        r (int): cantidad de pixeles de padding que se quieren\n",
    "    \n",
    "    Returns:\n",
    "        result (img): presentacion de la imagen con el padding agregado\n",
    "    \"\"\"\n",
    "    filas = img.shape[0]\n",
    "    columnas = img.shape[1]\n",
    "    img_padded = np.zeros((filas+r*2, columnas+r*2), int)\n",
    "    filas = img.shape[0]\n",
    "    columnas = img.shape[1]\n",
    "    for i in range(filas):\n",
    "        for j in range(columnas):\n",
    "            img_padded[i+r][j+r] = img[i][j]\n",
    "    return img_padded"
   ]
  },
  {
   "cell_type": "code",
   "execution_count": 215,
   "metadata": {},
   "outputs": [],
   "source": [
    "img = np.array([[ 255,   0,   0,   0,   255,   0,   255],\n",
    "               [  255, 255,   0, 255,   0, 255,   0],\n",
    "               [  0,     0,   0,   0,   0,   0,   255],\n",
    "               [  0,   255,   0, 255,   0, 255,   0],\n",
    "               [  0,     0, 255,   0, 255,   0,   0],\n",
    "               [  0,     0,   0,   0,   0,   0,   255]])"
   ]
  },
  {
   "cell_type": "code",
   "execution_count": 216,
   "metadata": {},
   "outputs": [],
   "source": [
    "img_padded = imgpad(img, 1)"
   ]
  },
  {
   "cell_type": "code",
   "execution_count": 308,
   "metadata": {},
   "outputs": [],
   "source": [
    "def connected_c(img):\n",
    "    \"\"\" Etiqueta los componentes conectados de la imagen binaria img.\n",
    "    \n",
    "    Args:\n",
    "        img (numpy array): imagen conformada por el array en formato de numpy\n",
    "    \n",
    "    Returns:\n",
    "        result (img): numpy array etiquetado\n",
    "    \"\"\"\n",
    "    linked = []\n",
    "    label = 1\n",
    "    equivalencias = []\n",
    "    filas = img.shape[0]\n",
    "    columnas = img.shape[1]\n",
    "    img_lab = np.zeros((filas, columnas), int)\n",
    "    \n",
    "    for f in range(1, filas-1):\n",
    "        for c in range(1, columnas-1):\n",
    "            if img[f][c] != 0:\n",
    "                    neig = [[f-1,c-1],[f,c-1],[f+1,c-1],[f-1,c],[f-1,c+1],[f,c+1],[f+1,c],[f+1,c+1]]\n",
    "                    neig_img = [img_lab[f-1,c-1],img_lab[f,c-1],img_lab[f+1,c-1],img_lab[f-1,c],img_lab[f-1,c+1],\n",
    "                        img_lab[f,c+1],img_lab[f+1,c],img_lab[f+1,c+1]]\n",
    "                    \n",
    "                    if (len([i for i in neig_img if i > 0])) == 0:\n",
    "                        img_lab[f][c] = label\n",
    "                        label+=1\n",
    "                        \n",
    "                    else:\n",
    "                        temp_min = min(i for i in neig_img if i > 0)\n",
    "                        img_lab[f][c] = temp_min\n",
    "                        vec_eq = np.unique(neig_img)\n",
    "                        vec_eq2 = vec_eq[vec_eq != 0]\n",
    "                        vec_eq2.tolist()\n",
    "                        \n",
    "                        if len(vec_eq2)>1:\n",
    "                            equivalencias.append(vec_eq2)\n",
    "\n",
    "    equivalencias =  [list(item) for item in set(tuple(row) for row in a)]              \n",
    "    equivalencias = np.array(equivalencias)\n",
    "    equivalencias.tolist()\n",
    "    \n",
    "    #print(equivalencias)\n",
    "    return img_lab"
   ]
  },
  {
   "cell_type": "markdown",
   "metadata": {},
   "source": [
    "On the first pass:\n",
    "\n",
    "Iterate through each element of the data by column, then by row (Raster Scanning)\n",
    "\n",
    "If the element is not the background\n",
    "\n",
    "Get the neighboring elements of the current element\n",
    "\n",
    "If there are no neighbors, uniquely label the current element and continue\n",
    "\n",
    "Otherwise, find the neighbor with the smallest label and assign it to the current element\n",
    "\n",
    "Store the equivalence between neighboring labels\n",
    "\n",
    "\n",
    "On the second pass:\n",
    "\n",
    "Iterate through each element of the data by column, then by row\n",
    "\n",
    "If the element is not the background\n",
    "\n",
    "Relabel the element with the lowest equivalent label"
   ]
  },
  {
   "cell_type": "code",
   "execution_count": 296,
   "metadata": {},
   "outputs": [
    {
     "data": {
      "text/plain": [
       "array([[  0,   0,   0,   0,   0,   0,   0,   0,   0],\n",
       "       [  0, 255,   0,   0,   0, 255,   0, 255,   0],\n",
       "       [  0, 255, 255,   0, 255,   0, 255,   0,   0],\n",
       "       [  0,   0,   0,   0,   0,   0,   0, 255,   0],\n",
       "       [  0,   0, 255,   0, 255,   0, 255,   0,   0],\n",
       "       [  0,   0,   0, 255,   0, 255,   0,   0,   0],\n",
       "       [  0,   0,   0,   0,   0,   0,   0, 255,   0],\n",
       "       [  0,   0,   0,   0,   0,   0,   0,   0,   0]])"
      ]
     },
     "execution_count": 296,
     "metadata": {},
     "output_type": "execute_result"
    }
   ],
   "source": [
    "img_padded"
   ]
  },
  {
   "cell_type": "code",
   "execution_count": 309,
   "metadata": {},
   "outputs": [
    {
     "data": {
      "text/plain": [
       "array([[0, 0, 0, 0, 0, 0, 0, 0, 0],\n",
       "       [0, 1, 0, 0, 0, 2, 0, 3, 0],\n",
       "       [0, 1, 1, 0, 2, 0, 2, 0, 0],\n",
       "       [0, 0, 0, 0, 0, 0, 0, 2, 0],\n",
       "       [0, 0, 4, 0, 5, 0, 2, 0, 0],\n",
       "       [0, 0, 0, 4, 0, 2, 0, 0, 0],\n",
       "       [0, 0, 0, 0, 0, 0, 0, 6, 0],\n",
       "       [0, 0, 0, 0, 0, 0, 0, 0, 0]])"
      ]
     },
     "execution_count": 309,
     "metadata": {},
     "output_type": "execute_result"
    }
   ],
   "source": [
    "connected_c(img_padded)"
   ]
  },
  {
   "cell_type": "code",
   "execution_count": null,
   "metadata": {},
   "outputs": [],
   "source": [
    "def connected_c(img):\n",
    "    \"\"\" Etiqueta los componentes conectados de la imagen binaria img.\n",
    "    \n",
    "    Args:\n",
    "        img (numpy array): imagen conformada por el array en formato de numpy\n",
    "    \n",
    "    Returns:\n",
    "        result (img): numpy array etiquetado\n",
    "    \"\"\"\n",
    "    \n",
    "    filas = img.shape[0]\n",
    "    columnas = img.shape[1]\n",
    "\n",
    "    \n",
    "    return img_et"
   ]
  },
  {
   "cell_type": "code",
   "execution_count": null,
   "metadata": {},
   "outputs": [],
   "source": [
    "def labelview(labels):\n",
    "    \"\"\" Asigna un color a cada etiqueta de la matriz labels de tipo np.array (imagen) \n",
    "    que ha sido etiquetada por un algoritmo CCL.\n",
    "    Hace uso de la función plot.imgview del módulo plot.py para visualizar dichos colores asignados.\n",
    "    \n",
    "    Args:\n",
    "        labels (numpy array): imagen conformada por el array en formato de numpy\n",
    "    \n",
    "    Returns:\n",
    "        result (img): numpy array etiquetado\n",
    "    \"\"\"\n",
    "\n",
    "    return img_labeled"
   ]
  },
  {
   "cell_type": "code",
   "execution_count": null,
   "metadata": {},
   "outputs": [],
   "source": [
    "def connected_c(img):\n",
    "    linked = []\n",
    "    label = 1\n",
    "    \n",
    "    filas = img.shape[0]\n",
    "    columnas = img.shape[1]\n",
    "    for i in range(1, filas-1):\n",
    "        for j in range(1, columnas-1):\n",
    "            neig = [[i-1,j],[i,j-1],[i-1,j-1], [i-1,j+1]]\n",
    "            neig_img = [img[i-1,j], img[i,j-1],img[i-1,j-1], img[i-1,j+1]]\n",
    "            if img[i][j] != 0:\n",
    "                if (255 not in neig_img) == False:\n",
    "                    linked = [neig[neig_img.index(255)]]\n",
    "                    img[i][j] = label\n",
    "                    label += 1 \n",
    "                    \n",
    "                else:\n",
    "                    temp_label =  min(neig_img)#min(v for v in neig_img if v > 0)\n",
    "                    img[i][j] = temp_label\n",
    "    return img\n",
    "'''\n",
    "                    #for a in neig_min:\n",
    "                        #linked[label] = union(linked[label], L)\n",
    "    for i in range(1, filas-1):\n",
    "        for j in range(1, columnas-1):\n",
    "            if img[i][j] != 0:\n",
    "                labels[row][column] = find(labels[row][column])\n",
    "    \n",
    "    return img\n",
    "            \n",
    "\n",
    "                if act ==1:\n",
    "                    hn = has_neighbours(i,j)\n",
    "                    if hn == 1 & act == 1:\n",
    "                        img[i][j] = etq\n",
    "                    else:\n",
    "                        img[i][j] = etq\n",
    "'''"
   ]
  },
  {
   "cell_type": "markdown",
   "metadata": {},
   "source": [
    "La variante two-pass del algoritmo a implementar está descrita en el sitio de \n",
    "Connected Componet labeling (CCL)de wikipedia presentado en las referencias y se copia a continuación:\n",
    "On the first pass:\n",
    "1. Iterate through each element of the data by column, then by row (Raster Scanning) 2. If the element is not the background\n",
    "On the second pass:\n",
    "1. Get the neighboring elements of the current element\n",
    "2. If there are no neighbors, uniquely label the current element and continue\n",
    "3. Otherwise, find the neighbor with the smallest label and assign it to the current\n",
    "element\n",
    "4. Store the equivalence between neighboring labels\n",
    "1. Iterate through each element of the data by column, then by row 2. If the element is not the background\n",
    "1. Relabel the element with the lowest equivalent label"
   ]
  }
 ],
 "metadata": {
  "kernelspec": {
   "display_name": "Python 3",
   "language": "python",
   "name": "python3"
  },
  "language_info": {
   "codemirror_mode": {
    "name": "ipython",
    "version": 3
   },
   "file_extension": ".py",
   "mimetype": "text/x-python",
   "name": "python",
   "nbconvert_exporter": "python",
   "pygments_lexer": "ipython3",
   "version": "3.7.2"
  }
 },
 "nbformat": 4,
 "nbformat_minor": 2
}
