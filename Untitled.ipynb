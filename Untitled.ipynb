{
 "cells": [
  {
   "cell_type": "code",
   "execution_count": 2,
   "metadata": {},
   "outputs": [],
   "source": [
    "import cv2 as cv\n",
    "import matplotlib.pyplot as plt\n",
    "import matplotlib.image as mpimg\n",
    "import numpy as np\n",
    "from matplotlib.pyplot import figure"
   ]
  },
  {
   "cell_type": "code",
   "execution_count": 9,
   "metadata": {},
   "outputs": [
    {
     "name": "stdout",
     "output_type": "stream",
     "text": [
      "1020\n"
     ]
    },
    {
     "ename": "IndexError",
     "evalue": "index 7 is out of bounds for axis 1 with size 7",
     "output_type": "error",
     "traceback": [
      "\u001b[0;31m---------------------------------------------------------------------------\u001b[0m",
      "\u001b[0;31mIndexError\u001b[0m                                Traceback (most recent call last)",
      "\u001b[0;32m<ipython-input-9-e8187227071c>\u001b[0m in \u001b[0;36m<module>\u001b[0;34m\u001b[0m\n\u001b[1;32m     21\u001b[0m             vecinos.extend([(arr[f-1,c-1]),\n\u001b[1;32m     22\u001b[0m                             \u001b[0;34m(\u001b[0m\u001b[0marr\u001b[0m\u001b[0;34m[\u001b[0m\u001b[0mf\u001b[0m\u001b[0;34m-\u001b[0m\u001b[0;36m1\u001b[0m\u001b[0;34m,\u001b[0m\u001b[0mc\u001b[0m\u001b[0;34m]\u001b[0m\u001b[0;34m)\u001b[0m\u001b[0;34m,\u001b[0m\u001b[0;34m\u001b[0m\u001b[0;34m\u001b[0m\u001b[0m\n\u001b[0;32m---> 23\u001b[0;31m                             \u001b[0;34m(\u001b[0m\u001b[0marr\u001b[0m\u001b[0;34m[\u001b[0m\u001b[0mf\u001b[0m\u001b[0;34m-\u001b[0m\u001b[0;36m1\u001b[0m\u001b[0;34m,\u001b[0m\u001b[0mc\u001b[0m\u001b[0;34m+\u001b[0m\u001b[0;36m1\u001b[0m\u001b[0;34m]\u001b[0m\u001b[0;34m)\u001b[0m\u001b[0;34m,\u001b[0m\u001b[0;34m\u001b[0m\u001b[0;34m\u001b[0m\u001b[0m\n\u001b[0m\u001b[1;32m     24\u001b[0m                             \u001b[0;34m(\u001b[0m\u001b[0marr\u001b[0m\u001b[0;34m[\u001b[0m\u001b[0mf\u001b[0m\u001b[0;34m,\u001b[0m\u001b[0mc\u001b[0m\u001b[0;34m-\u001b[0m\u001b[0;36m1\u001b[0m\u001b[0;34m]\u001b[0m\u001b[0;34m)\u001b[0m\u001b[0;34m,\u001b[0m\u001b[0;34m\u001b[0m\u001b[0;34m\u001b[0m\u001b[0m\n\u001b[1;32m     25\u001b[0m                             \u001b[0;34m(\u001b[0m\u001b[0marr\u001b[0m\u001b[0;34m[\u001b[0m\u001b[0mf\u001b[0m\u001b[0;34m,\u001b[0m\u001b[0mc\u001b[0m\u001b[0;34m+\u001b[0m\u001b[0;36m1\u001b[0m\u001b[0;34m]\u001b[0m\u001b[0;34m)\u001b[0m\u001b[0;34m,\u001b[0m\u001b[0;34m\u001b[0m\u001b[0;34m\u001b[0m\u001b[0m\n",
      "\u001b[0;31mIndexError\u001b[0m: index 7 is out of bounds for axis 1 with size 7"
     ]
    }
   ],
   "source": [
    "img = cv.imread('fprint3.pgm',0)\n",
    "arr = np.array([[ 255,   0,   0,   0,   0,   0,   255],\n",
    "               [  255, 255,   0,   255,   0, 255,   0],\n",
    "               [  0,     0,   0,   0,   0,   0,   255],\n",
    "               [  0,     0,   0,   0, 255,   0,   0],\n",
    "               [  0,   255,   0, 255,   0, 255,   0],\n",
    "               [  0,     0,   0,   0, 255,   0,   0],\n",
    "               [  0,     0,   255,   0, 255,   0,   0],\n",
    "               [  0,     0,   0,   0,   0,   0,   255]])\n",
    "label = 1\n",
    "filas = arr.shape[0]\n",
    "columnas = arr.shape[1]\n",
    "tabla_equi= []\n",
    "img_white = np.zeros((filas, columnas), int)\n",
    "\n",
    "for f in range(0,filas-1:\n",
    "    for c in range(0,columnas):\n",
    "        if(arr[f,c]==255): #2 BackgroundOrNot\n",
    "            vecinos = []\n",
    "            vecinos = list()\n",
    "            vecinos.extend([(arr[f-1,c-1]),\n",
    "                            (arr[f-1,c]),\n",
    "                            (arr[f-1,c+1]),\n",
    "                            (arr[f,c-1]),\n",
    "                            (arr[f,c+1]),\n",
    "                            (arr[f+1,c]),\n",
    "                            (arr[f+1,c+1]),\n",
    "                            (arr[f+1,c-1])])# Get Neighbors \n",
    "            print(sum(vecinos))\n",
    "            if(sum(vecinos)==0):\n",
    "                img_white[f,c] = label #2.2 no neighbors label\n",
    "                label = label+1\n",
    "            else:\n",
    "                vecinos_label = []\n",
    "                vecinos_label = list()\n",
    "                vecinos_label.extend([(arr[f-1,c-1]),\n",
    "                                (img_white[f-1,c]),\n",
    "                                (img_white[f-1,c+1]),\n",
    "                                (img_white[f,c-1]),\n",
    "                                (img_white[f,c+1]),\n",
    "                                (img_white[f+1,c]),\n",
    "                                (img_white[f+1,c+1]),\n",
    "                                (img_white[f+1,c-1])])# Get Neighbors With Labels \n",
    "                vecinos_label = list( dict.fromkeys(vecinos_label)) \n",
    "                img_white[f,c] = min(vecinos_label)+1\n",
    "                \n",
    "                \n",
    "                \n",
    "print(img_white)\n",
    "print(arr)"
   ]
  }
 ],
 "metadata": {
  "kernelspec": {
   "display_name": "Python 3",
   "language": "python",
   "name": "python3"
  },
  "language_info": {
   "codemirror_mode": {
    "name": "ipython",
    "version": 3
   },
   "file_extension": ".py",
   "mimetype": "text/x-python",
   "name": "python",
   "nbconvert_exporter": "python",
   "pygments_lexer": "ipython3",
   "version": "3.7.2"
  }
 },
 "nbformat": 4,
 "nbformat_minor": 2
}
