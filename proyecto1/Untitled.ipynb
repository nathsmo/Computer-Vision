{
 "cells": [
  {
   "cell_type": "code",
   "execution_count": null,
   "metadata": {},
   "outputs": [],
   "source": [
    "# Nathalia Morales carnet 20160295"
   ]
  },
  {
   "cell_type": "code",
   "execution_count": 3,
   "metadata": {},
   "outputs": [],
   "source": [
    "import numpy as np\n",
    "import cv2 as cv\n",
    "import matplotlib.pyplot as plt\n",
    "import matplotlib.image as mpimg\n",
    "from matplotlib.pyplot import figure"
   ]
  },
  {
   "cell_type": "code",
   "execution_count": null,
   "metadata": {},
   "outputs": [],
   "source": [
    "def pad(img, r):\n",
    "    \"\"\"Agrega un espacio de padding para la imagen en formato de numpy array.\n",
    "    \n",
    "    Args:\n",
    "        img (numpy array): imagen conformada por el array en formato de numpy\n",
    "        r (int): cantidad de pixeles de padding que se quieren\n",
    "    \n",
    "    Returns:\n",
    "        result (img): presentacion de la imagen con el padding agregado\n",
    "    \"\"\"\n",
    "    filas = img.shape[0]\n",
    "    columnas = img.shape[1]\n",
    "    img_padded = np.zeros((filas+r*2, columnas+r*2), int)\n",
    "    filas = img.shape[0]\n",
    "    columnas = img.shape[1]\n",
    "    for i in range(filas):\n",
    "        for j in range(columnas):\n",
    "            img_padded[i+r][j+r] = img[i][j]\n",
    "    return img_padded"
   ]
  },
  {
   "cell_type": "code",
   "execution_count": null,
   "metadata": {},
   "outputs": [],
   "source": []
  }
 ],
 "metadata": {
  "kernelspec": {
   "display_name": "Python 3",
   "language": "python",
   "name": "python3"
  },
  "language_info": {
   "codemirror_mode": {
    "name": "ipython",
    "version": 3
   },
   "file_extension": ".py",
   "mimetype": "text/x-python",
   "name": "python",
   "nbconvert_exporter": "python",
   "pygments_lexer": "ipython3",
   "version": "3.7.2"
  }
 },
 "nbformat": 4,
 "nbformat_minor": 2
}
